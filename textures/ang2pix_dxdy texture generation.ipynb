{
 "cells": [
  {
   "cell_type": "code",
   "execution_count": 11,
   "metadata": {},
   "outputs": [
    {
     "name": "stdout",
     "output_type": "stream",
     "text": [
      "0.4.2\n"
     ]
    }
   ],
   "source": [
    "from cdshealpix.nested import lonlat_to_healpix\n",
    "import cdshealpix\n",
    "print(cdshealpix.__version__)\n",
    "import astropy.units as u\n",
    "import numpy as np"
   ]
  },
  {
   "cell_type": "code",
   "execution_count": 25,
   "metadata": {},
   "outputs": [],
   "source": [
    "num_pixels = 1024\n",
    "lon = np.linspace(0, 360, num_pixels)\n",
    "lat = np.linspace(-90, 90, num_pixels)\n",
    "lon, lat = np.meshgrid(lon, lat)"
   ]
  },
  {
   "cell_type": "code",
   "execution_count": 31,
   "metadata": {},
   "outputs": [],
   "source": [
    "depth = 2\n",
    "num_tile = 12 * (4 ** depth)\n",
    "idx, dx, dy = lonlat_to_healpix(lon * u.deg, lat * u.deg, depth, return_offsets=True)"
   ]
  },
  {
   "cell_type": "code",
   "execution_count": 32,
   "metadata": {},
   "outputs": [],
   "source": [
    "dx[dx < 0.0] = 0.0\n",
    "dy[dy < 0.0] = 0.0\n",
    "\n",
    "dx = dx.astype(np.float32)\n",
    "dy = dy.astype(np.float32)\n",
    "idx = idx.astype(np.float32)"
   ]
  },
  {
   "cell_type": "code",
   "execution_count": 33,
   "metadata": {},
   "outputs": [],
   "source": [
    "shape = idx.shape\n",
    "idx=idx.ravel()\n",
    "dx=dx.ravel()\n",
    "dy=dy.ravel()"
   ]
  },
  {
   "cell_type": "code",
   "execution_count": 34,
   "metadata": {},
   "outputs": [
    {
     "name": "stdout",
     "output_type": "stream",
     "text": [
      "(1048576, 3)\n"
     ]
    },
    {
     "data": {
      "text/plain": [
       "array([[[170,   0,   0],\n",
       "        [170,   0,   0],\n",
       "        [170,   0,   0],\n",
       "        ...,\n",
       "        [234,   0,   0],\n",
       "        [234,   0,   0],\n",
       "        [170,   0,   0]],\n",
       "\n",
       "       [[170,   0,   3],\n",
       "        [170,   0,   3],\n",
       "        [170,   0,   3],\n",
       "        ...,\n",
       "        [234,   3,   0],\n",
       "        [234,   3,   0],\n",
       "        [170,   0,   3]],\n",
       "\n",
       "       [[170,   0,   7],\n",
       "        [170,   0,   7],\n",
       "        [170,   0,   7],\n",
       "        ...,\n",
       "        [234,   7,   0],\n",
       "        [234,   7,   0],\n",
       "        [170,   0,   7]],\n",
       "\n",
       "       ...,\n",
       "\n",
       "       [[ 20, 247,   0],\n",
       "        [ 20, 247, 254],\n",
       "        [ 20, 247, 254],\n",
       "        ...,\n",
       "        [ 84, 254, 247],\n",
       "        [ 84, 254, 247],\n",
       "        [ 20, 247,   0]],\n",
       "\n",
       "       [[ 20, 251,   0],\n",
       "        [ 20, 251, 254],\n",
       "        [ 20, 251, 254],\n",
       "        ...,\n",
       "        [ 84, 254, 251],\n",
       "        [ 84, 254, 251],\n",
       "        [ 20, 251,   0]],\n",
       "\n",
       "       [[ 20,   0,   0],\n",
       "        [ 20,   0,   0],\n",
       "        [ 20,   0,   0],\n",
       "        ...,\n",
       "        [ 84,   0,   0],\n",
       "        [ 84,   0,   0],\n",
       "        [ 20,   0,   0]]], dtype=uint8)"
      ]
     },
     "execution_count": 34,
     "metadata": {},
     "output_type": "execute_result"
    }
   ],
   "source": [
    "img = np.vstack(((idx.astype(np.float32) * 255.0 / float(num_tile - 1)).astype(np.uint8), (dx * 255).astype(np.uint8), (dy * 255).astype(np.uint8))).T\n",
    "print(img.shape)\n",
    "img = img.reshape((shape[0], shape[1], 3))\n",
    "img = img.astype(np.uint8)\n",
    "img"
   ]
  },
  {
   "cell_type": "code",
   "execution_count": 37,
   "metadata": {},
   "outputs": [
    {
     "name": "stdout",
     "output_type": "stream",
     "text": [
      "(1024, 1024, 3)\n"
     ]
    },
    {
     "data": {
      "image/png": "[encoded data removed]",
      "text/plain": [
       "<Figure size 432x288 with 1 Axes>"
      ]
     },
     "metadata": {},
     "output_type": "display_data"
    }
   ],
   "source": [
    "print(img.shape)\n",
    "import matplotlib.pyplot as plt\n",
    "fig, ax = plt.subplots()\n",
    "plt.imsave('ang2pix_depth' + str(depth) + '.raw', arr=img, vmax=255, vmin=0)"
   ]
  },
  {
   "cell_type": "code",
   "execution_count": 38,
   "metadata": {},
   "outputs": [
    {
     "name": "stdout",
     "output_type": "stream",
     "text": [
      "2\n"
     ]
    }
   ],
   "source": [
    "print(depth)"
   ]
  },
  {
   "cell_type": "code",
   "execution_count": null,
   "metadata": {},
   "outputs": [],
   "source": []
  }
 ],
 "metadata": {
  "kernelspec": {
   "display_name": "Python 3",
   "language": "python",
   "name": "python3"
  },
  "language_info": {
   "codemirror_mode": {
    "name": "ipython",
    "version": 3
   },
   "file_extension": ".py",
   "mimetype": "text/x-python",
   "name": "python",
   "nbconvert_exporter": "python",
   "pygments_lexer": "ipython3",
   "version": "3.6.8"
  }
 },
 "nbformat": 4,
 "nbformat_minor": 2
}
